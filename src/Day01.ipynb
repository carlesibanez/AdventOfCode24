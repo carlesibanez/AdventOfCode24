{
 "cells": [
  {
   "cell_type": "markdown",
   "metadata": {},
   "source": [
    "# Day 01"
   ]
  },
  {
   "cell_type": "code",
   "execution_count": 1,
   "metadata": {},
   "outputs": [],
   "source": [
    "# Read input file\n",
    "with open('../inputs/day01.txt', 'r') as f:\n",
    "    data = f.read().splitlines()"
   ]
  },
  {
   "cell_type": "markdown",
   "metadata": {},
   "source": [
    "## Puzzle 1"
   ]
  },
  {
   "cell_type": "code",
   "execution_count": 2,
   "metadata": {},
   "outputs": [
    {
     "name": "stdout",
     "output_type": "stream",
     "text": [
      "The total distance is 1341714\n"
     ]
    }
   ],
   "source": [
    "# Separate into left and right locations\n",
    "left = []\n",
    "right = []\n",
    "for l in range(len(data)):\n",
    "    d = data[l].split()\n",
    "    left.append(int(d[0]))\n",
    "    right.append(int(d[1]))\n",
    "\n",
    "# Sort the lists\n",
    "left.sort()\n",
    "right.sort()\n",
    "\n",
    "# Find the total distance\n",
    "result = 0\n",
    "for l, r in zip(left, right):\n",
    "    result += abs(r - l)\n",
    "    \n",
    "print(f'The total distance is {result}')"
   ]
  },
  {
   "cell_type": "markdown",
   "metadata": {},
   "source": [
    "## Puzzle 2"
   ]
  },
  {
   "cell_type": "code",
   "execution_count": 3,
   "metadata": {},
   "outputs": [
    {
     "name": "stdout",
     "output_type": "stream",
     "text": [
      "The similarity score is 27384707\n"
     ]
    }
   ],
   "source": [
    "result = 0\n",
    "for l in left:\n",
    "    result += right.count(l) * l\n",
    "\n",
    "print(f'The similarity score is {result}')"
   ]
  }
 ],
 "metadata": {
  "kernelspec": {
   "display_name": "venv",
   "language": "python",
   "name": "python3"
  },
  "language_info": {
   "codemirror_mode": {
    "name": "ipython",
    "version": 3
   },
   "file_extension": ".py",
   "mimetype": "text/x-python",
   "name": "python",
   "nbconvert_exporter": "python",
   "pygments_lexer": "ipython3",
   "version": "3.12.0"
  }
 },
 "nbformat": 4,
 "nbformat_minor": 2
}
